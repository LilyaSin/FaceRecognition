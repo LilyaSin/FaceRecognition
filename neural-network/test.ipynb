{
 "cells": [
  {
   "cell_type": "markdown",
   "metadata": {},
   "source": [
    "Загрузка обучающего набора из csv-файла"
   ]
  },
  {
   "cell_type": "code",
   "execution_count": 1,
   "metadata": {
    "collapsed": false
   },
   "outputs": [
    {
     "name": "stderr",
     "output_type": "stream",
     "text": [
      "Using TensorFlow backend.\n"
     ]
    }
   ],
   "source": [
    "import csv\n",
    "import numpy as np\n",
    "from pandas import read_csv\n",
    "from keras.utils import np_utils \n",
    "\n",
    "def parse_csv():\n",
    "    X = read_csv('training.csv') \n",
    "    A = np.array(X)\n",
    "    A = A[0:,30]\n",
    "    res = []\n",
    "    for i in A:\n",
    "        res.append([int(x) for x in i.split(' ')])\n",
    "    return res \n",
    "    \n",
    "x_train = parse_csv()\n",
    "y_train = [1] * len(x_train)\n",
    "y_train = np_utils.to_categorical(y_train, 2) "
   ]
  },
  {
   "cell_type": "markdown",
   "metadata": {},
   "source": [
    "Загрузка тестового изображения"
   ]
  },
  {
   "cell_type": "code",
   "execution_count": 30,
   "metadata": {
    "collapsed": false
   },
   "outputs": [],
   "source": [
    "import csv\n",
    "import numpy as np\n",
    "from pandas import read_csv\n",
    "from keras.utils import np_utils \n",
    "from PIL import Image\n",
    "\n",
    "def read_jpeg(path):\n",
    "    im = Image.open(path).convert('L')\n",
    "    X = list(im.getdata())\n",
    "    X = np.array(X)\n",
    "    return X\n",
    "    \n",
    "x_test = read_jpeg('data/face.png')\n",
    "y_test = []\n",
    "y_test.append(1)\n",
    "y_test = np_utils.to_categorical(y_test, 2) "
   ]
  },
  {
   "cell_type": "markdown",
   "metadata": {},
   "source": [
    "Загрузка обучающего набора из папки с изображениями"
   ]
  },
  {
   "cell_type": "code",
   "execution_count": 33,
   "metadata": {
    "collapsed": false,
    "scrolled": true
   },
   "outputs": [],
   "source": [
    "import os\n",
    "import scipy.io as sio\n",
    "import scipy\n",
    "\n",
    "def read_jpeg_training_data():\n",
    "    x_train = []\n",
    "    y_train = []\n",
    "    length = 0\n",
    "    dirpath = 'data/positive'\n",
    "    img_ext = '.png' \n",
    "    img_names = [ os.path.join(dirpath,x) for x in os.listdir( dirpath ) if x.endswith(img_ext) ]\n",
    "    length += len(img_names)\n",
    "    for i in img_names:\n",
    "        x_train.append(read_jpeg(i))\n",
    "        y_train.append(1)  \n",
    "    dirpath = 'data/negative'\n",
    "    img_names = [ os.path.join(dirpath,x) for x in os.listdir( dirpath ) if x.endswith(img_ext) ]\n",
    "    for i in img_names:\n",
    "        x_train.append(read_jpeg(i))\n",
    "        y_train.append(0) \n",
    "    length += len(img_names)\n",
    "    return x_train, y_train, length   \n",
    "\n",
    "x_train, y_train, set_size = read_jpeg_training_data()\n",
    "y_train = np_utils.to_categorical(y_train, 2) "
   ]
  },
  {
   "cell_type": "markdown",
   "metadata": {},
   "source": [
    "Определение гиперпараметров модели"
   ]
  },
  {
   "cell_type": "code",
   "execution_count": 34,
   "metadata": {
    "collapsed": true
   },
   "outputs": [],
   "source": [
    "height, width, deph = 96,96,1\n",
    "batch_size = 128 \n",
    "num_epochs = 1 \n",
    "hidden_size = 512 \n",
    "num_classes = 2 \n",
    "conv_depth_1 = 24\n",
    "pool_size = (2, 2)\n",
    "kernel_size = 2\n",
    "drop_prob_1 = 0.25\n",
    "drop_prob_2 = 0.5"
   ]
  },
  {
   "cell_type": "markdown",
   "metadata": {},
   "source": [
    "Подготовка обучающего набора"
   ]
  },
  {
   "cell_type": "code",
   "execution_count": 35,
   "metadata": {
    "collapsed": false
   },
   "outputs": [],
   "source": [
    "import numpy\n",
    "\n",
    "x_train = numpy.array(x_train)\n",
    "x_train = x_train.astype('float32')\n",
    "x_train /= 225\n",
    "x_train = x_train.reshape(set_size,1,height,width)"
   ]
  },
  {
   "cell_type": "markdown",
   "metadata": {},
   "source": [
    "Создание и компиляция модели"
   ]
  },
  {
   "cell_type": "code",
   "execution_count": 36,
   "metadata": {
    "collapsed": false
   },
   "outputs": [],
   "source": [
    "from keras.layers import Input, Convolution2D, MaxPooling2D, Dense, Dropout, Flatten, Activation\n",
    "from keras.utils import np_utils\n",
    "from keras.models import Model, Sequential  \n",
    "\n",
    "inp = Input(shape=(1, height, width))\n",
    "conv_1 = Convolution2D(24, 2, 2, border_mode='same', activation='relu')(inp)\n",
    "drop_1 = Dropout(drop_prob_1)(conv_1)\n",
    "flat_1=Flatten()(drop_1)\n",
    "\n",
    "hidden_1 = Dense(batch_size, activation='relu')(flat_1)\n",
    "drop_2 = Dropout(drop_prob_2)(hidden_1)\n",
    "out = Dense(num_classes, activation='softmax')(drop_2)\n",
    "\n",
    "model = Model(input=inp, output=out)\n",
    "\n",
    "model.compile(loss='categorical_crossentropy',\n",
    "             optimizer='adam',\n",
    "             metrics=['accuracy'])\n"
   ]
  },
  {
   "cell_type": "markdown",
   "metadata": {},
   "source": [
    "Обучение модели"
   ]
  },
  {
   "cell_type": "code",
   "execution_count": 37,
   "metadata": {
    "collapsed": false
   },
   "outputs": [
    {
     "name": "stdout",
     "output_type": "stream",
     "text": [
      "Epoch 1/1\n",
      "84/84 [==============================] - 0s - loss: 0.8776 - acc: 0.4762\n"
     ]
    },
    {
     "data": {
      "text/plain": [
       "<keras.callbacks.History at 0x7f86da79eb70>"
      ]
     },
     "execution_count": 37,
     "metadata": {},
     "output_type": "execute_result"
    }
   ],
   "source": [
    "model.fit(x_train, y_train, batch_size = batch_size, nb_epoch = num_epochs, verbose=1)"
   ]
  },
  {
   "cell_type": "markdown",
   "metadata": {},
   "source": [
    "Подготовка тестового изображения"
   ]
  },
  {
   "cell_type": "code",
   "execution_count": 38,
   "metadata": {
    "collapsed": false
   },
   "outputs": [],
   "source": [
    "y_test = np.array(y_test)\n",
    "x_test = numpy.array(x_test)\n",
    "x_test = x_test.reshape(1,1,height,width)\n",
    "x_test = x_test.astype('float32')\n",
    "x_test /= 225"
   ]
  },
  {
   "cell_type": "markdown",
   "metadata": {},
   "source": [
    "Оценка модели на тестовом наборе"
   ]
  },
  {
   "cell_type": "code",
   "execution_count": 26,
   "metadata": {
    "collapsed": false
   },
   "outputs": [
    {
     "name": "stdout",
     "output_type": "stream",
     "text": [
      "1/1 [==============================] - 0s\n"
     ]
    },
    {
     "data": {
      "text/plain": [
       "[0.82402372360229492, 0.0]"
      ]
     },
     "execution_count": 26,
     "metadata": {},
     "output_type": "execute_result"
    }
   ],
   "source": [
    "model.evaluate(x_test, y_test, verbose=1) "
   ]
  },
  {
   "cell_type": "markdown",
   "metadata": {},
   "source": [
    "Сериализация слоёв и весов"
   ]
  },
  {
   "cell_type": "code",
   "execution_count": 27,
   "metadata": {
    "collapsed": false
   },
   "outputs": [],
   "source": [
    "model_json = model.to_json()\n",
    "with open(\"network.json\", \"w\") as json_file:\n",
    "    json_file.write(model_json)\n",
    "model.save_weights(\"network.csv\")"
   ]
  },
  {
   "cell_type": "markdown",
   "metadata": {},
   "source": [
    "Загрузка модели из файлов со слоями и весами"
   ]
  },
  {
   "cell_type": "code",
   "execution_count": 4,
   "metadata": {
    "collapsed": false
   },
   "outputs": [],
   "source": [
    "from keras.models import model_from_json\n",
    "\n",
    "json_file = open('network.json', 'r')\n",
    "loaded_model_json = json_file.read()\n",
    "json_file.close()\n",
    "model = model_from_json(loaded_model_json)\n",
    "model.load_weights(\"network.csv\")"
   ]
  },
  {
   "cell_type": "code",
   "execution_count": 13,
   "metadata": {
    "collapsed": true
   },
   "outputs": [],
   "source": [
    "model.compile(loss='categorical_crossentropy',\n",
    "             optimizer='adam',\n",
    "             metrics=['accuracy'])"
   ]
  },
  {
   "cell_type": "code",
   "execution_count": null,
   "metadata": {
    "collapsed": true
   },
   "outputs": [],
   "source": []
  }
 ],
 "metadata": {
  "kernelspec": {
   "display_name": "Python 3",
   "language": "python",
   "name": "python3"
  },
  "language_info": {
   "codemirror_mode": {
    "name": "ipython",
    "version": 3
   },
   "file_extension": ".py",
   "mimetype": "text/x-python",
   "name": "python",
   "nbconvert_exporter": "python",
   "pygments_lexer": "ipython3",
   "version": "3.6.0"
  }
 },
 "nbformat": 4,
 "nbformat_minor": 2
}
