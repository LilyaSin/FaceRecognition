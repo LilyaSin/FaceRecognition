{
 "cells": [
  {
   "cell_type": "code",
   "execution_count": 3,
   "metadata": {
    "collapsed": false
   },
   "outputs": [
    {
     "name": "stderr",
     "output_type": "stream",
     "text": [
      "Using TensorFlow backend.\n"
     ]
    }
   ],
   "source": [
    "from keras.datasets import mnist \n",
    "from keras.models import Model\n",
    "from keras.layers import Input, Convolution2D, MaxPooling2D, Dense, Dropout, Flatten, Activation\n",
    "from keras.utils import np_utils\n",
    "import numpy as np\n",
    "from keras.models import Sequential"
   ]
  },
  {
   "cell_type": "code",
   "execution_count": 4,
   "metadata": {
    "collapsed": false
   },
   "outputs": [],
   "source": [
    "batch_size = 128\n",
    "nb_classes = 10\n",
    "nb_epoch = 12\n",
    "height, width, deph = 28,28,1\n",
    "conv_depth_1 = 32\n",
    "pool_size = (2, 2)\n",
    "kernel_size = 3\n",
    "drop_prob_1 = 0.25\n",
    "drop_prob_2 = 0.5\n",
    "num_classes = 10"
   ]
  },
  {
   "cell_type": "code",
   "execution_count": 6,
   "metadata": {
    "collapsed": false
   },
   "outputs": [
    {
     "data": {
      "text/plain": [
       "(60000, 10)"
      ]
     },
     "execution_count": 6,
     "metadata": {},
     "output_type": "execute_result"
    }
   ],
   "source": [
    "(X_train, y_train), (X_test, y_test) = mnist.load_data()\n",
    "\n",
    "X_train = X_train.reshape(X_train.shape[0], 1, height, width)\n",
    "X_test = X_test.reshape(X_test.shape[0], 1, height, width)\n",
    "X_train = X_train.astype('float32')\n",
    "X_test = X_test.astype('float32')\n",
    "\n",
    "X_train /= 225\n",
    "X_test /= 225\n",
    "\n",
    "Y_train = np_utils.to_categorical(y_train, num_classes) \n",
    "Y_test = np_utils.to_categorical(y_test,num_classes) \n",
    "Y_train.shape"
   ]
  },
  {
   "cell_type": "code",
   "execution_count": 5,
   "metadata": {
    "collapsed": false
   },
   "outputs": [],
   "source": [
    "inp = Input(shape=(1, height, width))\n",
    "conv_1 = Convolution2D(conv_depth_1, kernel_size, kernel_size, border_mode='same', activation='relu')(inp)\n",
    "drop_1 = Dropout(drop_prob_1)(conv_1)\n",
    "flat_1=Flatten()(drop_1)\n",
    "\n",
    "hidden_1 = Dense(batch_size, activation='relu')(flat_1)\n",
    "drop_2 = Dropout(drop_prob_2)(hidden_1)\n",
    "out = Dense(num_classes, activation='softmax')(drop_2)\n",
    "\n",
    "model = Model(input=inp, output=out)\n",
    "\n",
    "model.compile(loss='categorical_crossentropy',\n",
    "             optimizer='adam',\n",
    "             metrics=['accuracy'])\n"
   ]
  },
  {
   "cell_type": "code",
   "execution_count": 8,
   "metadata": {
    "collapsed": false
   },
   "outputs": [
    {
     "data": {
      "text/plain": [
       "(60000, 1, 28, 28)"
      ]
     },
     "execution_count": 8,
     "metadata": {},
     "output_type": "execute_result"
    }
   ],
   "source": [
    "X_train.shape"
   ]
  },
  {
   "cell_type": "code",
   "execution_count": 5,
   "metadata": {
    "collapsed": false
   },
   "outputs": [
    {
     "name": "stdout",
     "output_type": "stream",
     "text": [
      "Train on 54000 samples, validate on 6000 samples\n",
      "Epoch 1/12\n",
      "54000/54000 [==============================] - 9s - loss: 0.5199 - acc: 0.8409 - val_loss: 0.1501 - val_acc: 0.9578\n",
      "Epoch 2/12\n",
      "54000/54000 [==============================] - 8s - loss: 0.2302 - acc: 0.9311 - val_loss: 0.0989 - val_acc: 0.9715\n",
      "Epoch 3/12\n",
      "54000/54000 [==============================] - 7s - loss: 0.1777 - acc: 0.9471 - val_loss: 0.0812 - val_acc: 0.9762\n",
      "Epoch 4/12\n",
      "54000/54000 [==============================] - 7s - loss: 0.1493 - acc: 0.9556 - val_loss: 0.0704 - val_acc: 0.9805\n",
      "Epoch 5/12\n",
      "54000/54000 [==============================] - 8s - loss: 0.1307 - acc: 0.9608 - val_loss: 0.0675 - val_acc: 0.9808\n",
      "Epoch 6/12\n",
      "54000/54000 [==============================] - 10s - loss: 0.1189 - acc: 0.9647 - val_loss: 0.0588 - val_acc: 0.9828\n",
      "Epoch 7/12\n",
      "54000/54000 [==============================] - 11s - loss: 0.1085 - acc: 0.9668 - val_loss: 0.0556 - val_acc: 0.9838\n",
      "Epoch 8/12\n",
      "54000/54000 [==============================] - 9s - loss: 0.0988 - acc: 0.9697 - val_loss: 0.0551 - val_acc: 0.9845\n",
      "Epoch 9/12\n",
      "54000/54000 [==============================] - 7s - loss: 0.0928 - acc: 0.9715 - val_loss: 0.0514 - val_acc: 0.9862\n",
      "Epoch 10/12\n",
      "54000/54000 [==============================] - 8s - loss: 0.0870 - acc: 0.9739 - val_loss: 0.0513 - val_acc: 0.9857\n",
      "Epoch 11/12\n",
      "54000/54000 [==============================] - 8s - loss: 0.0849 - acc: 0.9735 - val_loss: 0.0495 - val_acc: 0.9862\n",
      "Epoch 12/12\n",
      "54000/54000 [==============================] - 7s - loss: 0.0812 - acc: 0.9754 - val_loss: 0.0484 - val_acc: 0.9858\n"
     ]
    },
    {
     "data": {
      "text/plain": [
       "<keras.callbacks.History at 0x1f7a945c748>"
      ]
     },
     "execution_count": 5,
     "metadata": {},
     "output_type": "execute_result"
    }
   ],
   "source": [
    "\n",
    "model.fit(X_train, Y_train,\n",
    "         batch_size = batch_size, nb_epoch=nb_epoch,\n",
    "         verbose=1, validation_split=0.1)"
   ]
  },
  {
   "cell_type": "code",
   "execution_count": 6,
   "metadata": {
    "collapsed": false
   },
   "outputs": [
    {
     "name": "stdout",
     "output_type": "stream",
     "text": [
      " 9984/10000 [============================>.] - ETA: 0s"
     ]
    },
    {
     "data": {
      "text/plain": [
       "[0.047724664983281401, 0.98380000000000001]"
      ]
     },
     "execution_count": 6,
     "metadata": {},
     "output_type": "execute_result"
    }
   ],
   "source": [
    "model.evaluate(X_test, Y_test,verbose=1)"
   ]
  },
  {
   "cell_type": "code",
   "execution_count": null,
   "metadata": {
    "collapsed": true
   },
   "outputs": [],
   "source": []
  }
 ],
 "metadata": {
  "anaconda-cloud": {},
  "kernelspec": {
   "display_name": "Python [Root]",
   "language": "python",
   "name": "Python [Root]"
  },
  "language_info": {
   "codemirror_mode": {
    "name": "ipython",
    "version": 3
   },
   "file_extension": ".py",
   "mimetype": "text/x-python",
   "name": "python",
   "nbconvert_exporter": "python",
   "pygments_lexer": "ipython3",
   "version": "3.5.2"
  }
 },
 "nbformat": 4,
 "nbformat_minor": 0
}
