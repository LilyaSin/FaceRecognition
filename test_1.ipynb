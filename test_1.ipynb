{
 "cells": [
  {
   "cell_type": "code",
   "execution_count": 1,
   "metadata": {
    "collapsed": false
   },
   "outputs": [
    {
     "name": "stderr",
     "output_type": "stream",
     "text": [
      "Using TensorFlow backend.\n"
     ]
    }
   ],
   "source": [
    "import csv\n",
    "import numpy as np\n",
    "from pandas import read_csv\n",
    "from keras.utils import np_utils \n",
    "\n",
    "def parse_csv():\n",
    "    X = read_csv('training.csv') \n",
    "    A = np.array(X)\n",
    "    A = A[0:,30]\n",
    "    res = []\n",
    "    for i in A:\n",
    "        res.append([int(x) for x in i.split(' ')])\n",
    "    return res \n",
    "    \n",
    "x_train = parse_csv()\n",
    "y_train = [1] * len(x_train)\n",
    "y_train = np_utils.to_categorical(y_train, 2) "
   ]
  },
  {
   "cell_type": "code",
   "execution_count": 86,
   "metadata": {
    "collapsed": false
   },
   "outputs": [],
   "source": [
    "import csv\n",
    "import numpy as np\n",
    "from pandas import read_csv\n",
    "from keras.utils import np_utils \n",
    "from PIL import Image\n",
    "\n",
    "def read_jpeg(path):\n",
    "    im = Image.open(path).convert('L')\n",
    "    X = list(im.getdata())\n",
    "    X = np.array(X)\n",
    "    return X\n",
    "    \n",
    "x_test = read_jpeg('data/face.jpg')\n",
    "y_test = []\n",
    "y_test.append(1)"
   ]
  },
  {
   "cell_type": "code",
   "execution_count": 87,
   "metadata": {
    "collapsed": false,
    "scrolled": true
   },
   "outputs": [],
   "source": [
    "import os\n",
    "import scipy.io as sio\n",
    "import scipy\n",
    "\n",
    "def read_jpeg_training_data():\n",
    "    x_train = []\n",
    "    y_train = []\n",
    "    dirpath = 'data/'\n",
    "    img_ext = '.jpg' \n",
    "    img_names = [ os.path.join(dirpath,x) for x in os.listdir( dirpath ) if x.endswith(img_ext) ]\n",
    "    for i in img_names:\n",
    "        x_train.append(read_jpeg(i))\n",
    "        y_train.append(1)\n",
    "    return x_train, y_train    \n",
    "\n",
    "x_train, y_train = read_jpeg_training_data()\n",
    "y_train = np_utils.to_categorical(y_train, 2) "
   ]
  },
  {
   "cell_type": "code",
   "execution_count": 88,
   "metadata": {
    "collapsed": false
   },
   "outputs": [
    {
     "name": "stdout",
     "output_type": "stream",
     "text": [
      "9216\n"
     ]
    },
    {
     "data": {
      "text/plain": [
       "(3, 9216)"
      ]
     },
     "execution_count": 88,
     "metadata": {},
     "output_type": "execute_result"
    }
   ],
   "source": [
    "print(len(x_train[1]))\n",
    "np.array(x_train).shape"
   ]
  },
  {
   "cell_type": "code",
   "execution_count": 89,
   "metadata": {
    "collapsed": true
   },
   "outputs": [],
   "source": [
    "height, width, deph = 96,96,1\n",
    "batch_size = 128 \n",
    "num_epochs = 1 \n",
    "hidden_size = 512 \n",
    "num_classes = 2 \n",
    "conv_depth_1 = 24\n",
    "pool_size = (2, 2)\n",
    "kernel_size = 2\n",
    "drop_prob_1 = 0.25\n",
    "drop_prob_2 = 0.5"
   ]
  },
  {
   "cell_type": "code",
   "execution_count": 90,
   "metadata": {
    "collapsed": false
   },
   "outputs": [],
   "source": [
    "import numpy\n",
    "\n",
    "x_train = numpy.array(x_train)\n",
    "x_train = x_train.astype('float32')\n",
    "x_train /= 225\n"
   ]
  },
  {
   "cell_type": "markdown",
   "metadata": {},
   "source": [
    "Создание модели"
   ]
  },
  {
   "cell_type": "code",
   "execution_count": 98,
   "metadata": {
    "collapsed": false
   },
   "outputs": [],
   "source": [
    "from keras.layers import Input, Convolution2D, MaxPooling2D, Dense, Dropout, Flatten, Activation\n",
    "from keras.utils import np_utils\n",
    "from keras.models import Model, Sequential  \n",
    "\n",
    "inp = Input(shape=(1, height, width))\n",
    "#inp = Input(shape=(9216,))\n",
    "conv_1 = Convolution2D(24, 2, 2, border_mode='same', activation='relu')(inp)\n",
    "drop_1 = Dropout(drop_prob_1)(conv_1)\n",
    "flat_1=Flatten()(drop_1)\n",
    "\n",
    "hidden_1 = Dense(batch_size, activation='relu')(flat_1)\n",
    "drop_2 = Dropout(drop_prob_2)(hidden_1)\n",
    "out = Dense(num_classes, activation='softmax')(drop_2)\n",
    "\n",
    "model = Model(input=inp, output=out)\n",
    "\n",
    "model.compile(loss='categorical_crossentropy',\n",
    "             optimizer='adam',\n",
    "             metrics=['accuracy'])\n"
   ]
  },
  {
   "cell_type": "code",
   "execution_count": 92,
   "metadata": {
    "collapsed": true
   },
   "outputs": [],
   "source": [
    "\n",
    "height, width, deph = 96,96,1 #параметры изображение 28x28 в сером спектре\n",
    "batch_size = 128 # рассматриваем 128 обучающий парметров на каждой итерации\n",
    "num_epochs = 1 # итерируемся 20 раз по обучающей выборке \n",
    "hidden_size = 512 # по 512 нейронов в каждом (из двух) слоев НС\n",
    "num_classes = 2 # 10 классов\n",
    "\n",
    "from keras.layers import Input, Dense # 2 типа слоев НС\n",
    "from keras.models import Model  #класс для определения и обучений НС\n",
    "\n",
    "inp = Input(shape=(9216,)) #на входе вектор размера 784\n",
    "hidden_1 = Dense(hidden_size, activation ='relu')(inp) #первый скрытый ReLu слой\n",
    "hidden_2 = Dense(hidden_size, activation = 'relu')(hidden_1) #второй скрытый ReLu слой\n",
    "out = Dense(num_classes, activation='softmax')(hidden_2) # выходной softmax слой\n",
    "# softmax превращает вектор действительных чисел в вектор вероятностей\n",
    "\n",
    "model = Model(input = inp, output = out)\n",
    "#model.add(Dense(12, input_dim=8, init='uniform', activation='relu'))\n",
    "model.compile(loss='categorical_crossentropy', #функция потерь крос - энтропии\n",
    "             optimizer = 'adam', #отпимизатор Адама\n",
    "              metrics = ['accuracy'] #точность - доля входных данных, отнесенных к правильному классу\n",
    "             )"
   ]
  },
  {
   "cell_type": "code",
   "execution_count": 99,
   "metadata": {
    "collapsed": false
   },
   "outputs": [],
   "source": [
    "x_train.shape\n",
    "x_train = np.array(x_train)\n",
    "x_train = x_train.reshape(3,1,96,96)"
   ]
  },
  {
   "cell_type": "markdown",
   "metadata": {},
   "source": [
    "Обучение модели"
   ]
  },
  {
   "cell_type": "code",
   "execution_count": 100,
   "metadata": {
    "collapsed": false
   },
   "outputs": [
    {
     "name": "stdout",
     "output_type": "stream",
     "text": [
      "Epoch 1/1\n",
      "3/3 [==============================] - 0s - loss: 0.5761 - acc: 1.0000\n"
     ]
    },
    {
     "data": {
      "text/plain": [
       "<keras.callbacks.History at 0x1d3e977a320>"
      ]
     },
     "execution_count": 100,
     "metadata": {},
     "output_type": "execute_result"
    }
   ],
   "source": [
    "model.fit(x_train, y_train, batch_size = batch_size, nb_epoch = num_epochs, verbose=1)"
   ]
  },
  {
   "cell_type": "code",
   "execution_count": 51,
   "metadata": {
    "collapsed": false
   },
   "outputs": [],
   "source": [
    "y_test = np.array(y_test)\n",
    "#y_test = np_utils.to_categorical(y_test, 2) \n",
    "x_test = numpy.array(x_test)\n",
    "x_test = x_test.reshape(1, 9216)\n",
    "x_test = x_test.astype('float32')\n",
    "x_test /= 225"
   ]
  },
  {
   "cell_type": "code",
   "execution_count": 52,
   "metadata": {
    "collapsed": false
   },
   "outputs": [
    {
     "name": "stdout",
     "output_type": "stream",
     "text": [
      "1/1 [==============================] - 0s\n"
     ]
    },
    {
     "data": {
      "text/plain": [
       "[0.67011743783950806, 1.0]"
      ]
     },
     "execution_count": 52,
     "metadata": {},
     "output_type": "execute_result"
    }
   ],
   "source": [
    "model.evaluate(x_test, y_test, verbose=1) #оценка модели на тестовом наборе "
   ]
  },
  {
   "cell_type": "code",
   "execution_count": 49,
   "metadata": {
    "collapsed": false
   },
   "outputs": [],
   "source": []
  },
  {
   "cell_type": "code",
   "execution_count": null,
   "metadata": {
    "collapsed": true
   },
   "outputs": [],
   "source": []
  }
 ],
 "metadata": {
  "kernelspec": {
   "display_name": "Python [Root]",
   "language": "python",
   "name": "Python [Root]"
  },
  "language_info": {
   "codemirror_mode": {
    "name": "ipython",
    "version": 3
   },
   "file_extension": ".py",
   "mimetype": "text/x-python",
   "name": "python",
   "nbconvert_exporter": "python",
   "pygments_lexer": "ipython3",
   "version": "3.5.2"
  }
 },
 "nbformat": 4,
 "nbformat_minor": 2
}
